{
  "nbformat": 4,
  "nbformat_minor": 0,
  "metadata": {
    "colab": {
      "provenance": []
    },
    "kernelspec": {
      "name": "python3",
      "display_name": "Python 3"
    },
    "language_info": {
      "name": "python"
    }
  },
  "cells": [
    {
      "cell_type": "code",
      "execution_count": 1,
      "metadata": {
        "colab": {
          "base_uri": "https://localhost:8080/"
        },
        "id": "xJFQK5_YBz45",
        "outputId": "d260c688-3a88-44ec-d130-4f7a62385ef2"
      },
      "outputs": [
        {
          "output_type": "stream",
          "name": "stdout",
          "text": [
            "Requirement already satisfied: pandas in /usr/local/lib/python3.11/dist-packages (2.2.2)\n",
            "Requirement already satisfied: xgboost in /usr/local/lib/python3.11/dist-packages (2.1.4)\n",
            "Requirement already satisfied: hdbscan in /usr/local/lib/python3.11/dist-packages (0.8.40)\n",
            "Requirement already satisfied: matplotlib in /usr/local/lib/python3.11/dist-packages (3.10.0)\n",
            "Requirement already satisfied: seaborn in /usr/local/lib/python3.11/dist-packages (0.13.2)\n",
            "Requirement already satisfied: numpy>=1.23.2 in /usr/local/lib/python3.11/dist-packages (from pandas) (2.0.2)\n",
            "Requirement already satisfied: python-dateutil>=2.8.2 in /usr/local/lib/python3.11/dist-packages (from pandas) (2.9.0.post0)\n",
            "Requirement already satisfied: pytz>=2020.1 in /usr/local/lib/python3.11/dist-packages (from pandas) (2025.2)\n",
            "Requirement already satisfied: tzdata>=2022.7 in /usr/local/lib/python3.11/dist-packages (from pandas) (2025.2)\n",
            "Requirement already satisfied: nvidia-nccl-cu12 in /usr/local/lib/python3.11/dist-packages (from xgboost) (2.21.5)\n",
            "Requirement already satisfied: scipy in /usr/local/lib/python3.11/dist-packages (from xgboost) (1.15.3)\n",
            "Requirement already satisfied: scikit-learn>=0.20 in /usr/local/lib/python3.11/dist-packages (from hdbscan) (1.6.1)\n",
            "Requirement already satisfied: joblib>=1.0 in /usr/local/lib/python3.11/dist-packages (from hdbscan) (1.5.1)\n",
            "Requirement already satisfied: contourpy>=1.0.1 in /usr/local/lib/python3.11/dist-packages (from matplotlib) (1.3.2)\n",
            "Requirement already satisfied: cycler>=0.10 in /usr/local/lib/python3.11/dist-packages (from matplotlib) (0.12.1)\n",
            "Requirement already satisfied: fonttools>=4.22.0 in /usr/local/lib/python3.11/dist-packages (from matplotlib) (4.58.5)\n",
            "Requirement already satisfied: kiwisolver>=1.3.1 in /usr/local/lib/python3.11/dist-packages (from matplotlib) (1.4.8)\n",
            "Requirement already satisfied: packaging>=20.0 in /usr/local/lib/python3.11/dist-packages (from matplotlib) (24.2)\n",
            "Requirement already satisfied: pillow>=8 in /usr/local/lib/python3.11/dist-packages (from matplotlib) (11.2.1)\n",
            "Requirement already satisfied: pyparsing>=2.3.1 in /usr/local/lib/python3.11/dist-packages (from matplotlib) (3.2.3)\n",
            "Requirement already satisfied: six>=1.5 in /usr/local/lib/python3.11/dist-packages (from python-dateutil>=2.8.2->pandas) (1.17.0)\n",
            "Requirement already satisfied: threadpoolctl>=3.1.0 in /usr/local/lib/python3.11/dist-packages (from scikit-learn>=0.20->hdbscan) (3.6.0)\n"
          ]
        }
      ],
      "source": [
        "!pip install pandas xgboost hdbscan matplotlib seaborn\n"
      ]
    },
    {
      "cell_type": "code",
      "source": [
        "import json\n",
        "import pandas as pd\n",
        "import numpy as np\n",
        "\n",
        "# Load JSON file\n",
        "with open('/content/user-wallet-transactions.json') as f:\n",
        "    data = json.load(f)\n",
        "\n",
        "df = pd.DataFrame(data)\n",
        "\n",
        "# Inspect structure\n",
        "print(df.head())\n"
      ],
      "metadata": {
        "colab": {
          "base_uri": "https://localhost:8080/"
        },
        "id": "emqhZIqXB4VR",
        "outputId": "392517cc-e43e-4841-8a63-a38e79dc0b17"
      },
      "execution_count": 3,
      "outputs": [
        {
          "output_type": "stream",
          "name": "stdout",
          "text": [
            "                                    _id  \\\n",
            "0  {'$oid': '681d38fed63812d4655f571a'}   \n",
            "1  {'$oid': '681aa70dd6df53021cc6f3c0'}   \n",
            "2  {'$oid': '681d04c2d63812d4654c733e'}   \n",
            "3  {'$oid': '681d133bd63812d46551b6ef'}   \n",
            "4  {'$oid': '681899e4ba49fc91cf2f4454'}   \n",
            "\n",
            "                                   userWallet  network protocol  \\\n",
            "0  0x00000000001accfa9cef68cf5371a23025b6d4b6  polygon  aave_v2   \n",
            "1  0x000000000051d07a4fb3bd10121a343d85818da6  polygon  aave_v2   \n",
            "2  0x000000000096026fb41fc39f9875d164bd82e2dc  polygon  aave_v2   \n",
            "3  0x000000000096026fb41fc39f9875d164bd82e2dc  polygon  aave_v2   \n",
            "4  0x0000000000e189dd664b9ab08a33c4839953852c  polygon  aave_v2   \n",
            "\n",
            "                                              txHash  \\\n",
            "0  0x695c69acf608fbf5d38e48ca5535e118cc213a89e3d6...   \n",
            "1  0xe6fc162c86b2928b0ba9b82bda672763665152b9de9d...   \n",
            "2  0xe2d7eb815c89331a734ed6f204a06c385a1b39040baa...   \n",
            "3  0x0d63a2eacd82b82f868db825ea7385e6bd8d046ee729...   \n",
            "4  0x590eabb812c5006a6f4766f44e6e9d3ad0b5b563de69...   \n",
            "\n",
            "                                               logId   timestamp  blockNumber  \\\n",
            "0  0x695c69acf608fbf5d38e48ca5535e118cc213a89e3d6...  1629178166   1629178166   \n",
            "1  0xe6fc162c86b2928b0ba9b82bda672763665152b9de9d...  1621525013   1621525013   \n",
            "2  0xe2d7eb815c89331a734ed6f204a06c385a1b39040baa...  1627118913   1627118913   \n",
            "3  0x0d63a2eacd82b82f868db825ea7385e6bd8d046ee729...  1627773318   1627773318   \n",
            "4  0x590eabb812c5006a6f4766f44e6e9d3ad0b5b563de69...  1618845907   1618845907   \n",
            "\n",
            "             action                                         actionData  __v  \\\n",
            "0           deposit  {'type': 'Deposit', 'amount': '2000000000', 'a...    0   \n",
            "1           deposit  {'type': 'Deposit', 'amount': '145000000000000...    0   \n",
            "2           deposit  {'type': 'Deposit', 'amount': '100000000000000...    0   \n",
            "3           deposit  {'type': 'Deposit', 'amount': '400000000000000...    0   \n",
            "4  redeemunderlying  {'type': 'RedeemUnderlying', 'amount': '501548...    0   \n",
            "\n",
            "                               createdAt  \\\n",
            "0  {'$date': '2025-05-08T23:06:39.465Z'}   \n",
            "1  {'$date': '2025-05-07T00:19:26.159Z'}   \n",
            "2  {'$date': '2025-05-08T19:23:47.877Z'}   \n",
            "3  {'$date': '2025-05-08T20:25:33.141Z'}   \n",
            "4  {'$date': '2025-05-05T10:58:45.934Z'}   \n",
            "\n",
            "                               updatedAt  \n",
            "0  {'$date': '2025-05-08T23:06:39.465Z'}  \n",
            "1  {'$date': '2025-05-07T00:19:26.159Z'}  \n",
            "2  {'$date': '2025-05-08T19:23:47.877Z'}  \n",
            "3  {'$date': '2025-05-08T20:25:33.141Z'}  \n",
            "4  {'$date': '2025-05-05T10:58:45.934Z'}  \n"
          ]
        }
      ]
    },
    {
      "cell_type": "code",
      "source": [
        "# Convert timestamp to datetime\n",
        "df['timestamp'] = pd.to_datetime(df['timestamp'], unit='s')\n",
        "df['day'] = df['timestamp'].dt.date\n",
        "\n",
        "# Basic features per wallet\n",
        "features = df.groupby('userWallet').agg({\n",
        "    'action': ['count', lambda x: (x == 'deposit').sum(), lambda x: (x == 'borrow').sum(),\n",
        "               lambda x: (x == 'repay').sum(), lambda x: (x == 'liquidationcall').sum()],\n",
        "    'timestamp': ['min', 'max'],\n",
        "    'day': pd.Series.nunique\n",
        "})\n",
        "\n",
        "features.columns = ['total_txns', 'deposits', 'borrows', 'repays', 'liquidations',\n",
        "                    'first_seen', 'last_seen', 'active_days']\n",
        "\n",
        "# Time active\n",
        "features['days_active'] = (features['last_seen'] - features['first_seen']).dt.days + 1\n",
        "features['txns_per_day'] = features['total_txns'] / features['days_active']\n",
        "features['deposit_ratio'] = features['deposits'] / features['total_txns']\n",
        "features['borrow_ratio'] = features['borrows'] / features['total_txns']\n",
        "features['repay_ratio'] = features['repays'] / features['total_txns']\n",
        "features['liq_ratio'] = features['liquidations'] / features['total_txns']\n",
        "features.reset_index(inplace=True)\n",
        "\n",
        "features.fillna(0, inplace=True)"
      ],
      "metadata": {
        "id": "KY2bAPnMF0Wu"
      },
      "execution_count": 5,
      "outputs": []
    },
    {
      "cell_type": "code",
      "source": [
        "# Mark wallet as bot if txns_per_day is too high (tweakable)\n",
        "features['is_bot'] = features['txns_per_day'] > 50\n"
      ],
      "metadata": {
        "id": "Hhj9LigDF70H"
      },
      "execution_count": 6,
      "outputs": []
    },
    {
      "cell_type": "code",
      "source": [
        "from sklearn.preprocessing import StandardScaler\n",
        "import hdbscan\n",
        "\n",
        "clustering_features = ['txns_per_day', 'deposit_ratio', 'borrow_ratio', 'repay_ratio', 'liq_ratio']\n",
        "X = StandardScaler().fit_transform(features[clustering_features])\n",
        "\n",
        "clusterer = hdbscan.HDBSCAN(min_cluster_size=10)\n",
        "features['cluster'] = clusterer.fit_predict(X)\n",
        "\n",
        "# Optional: consider cluster with high bot ratio as bot\n",
        "bot_clusters = features.groupby('cluster')['is_bot'].mean()\n",
        "sus_clusters = bot_clusters[bot_clusters > 0.7].index\n",
        "features['hdbscan_bot'] = features['cluster'].isin(sus_clusters)\n"
      ],
      "metadata": {
        "colab": {
          "base_uri": "https://localhost:8080/"
        },
        "id": "yVRfBvE9GwFi",
        "outputId": "cbe8eb66-dda7-4d64-d353-176920090f13"
      },
      "execution_count": 7,
      "outputs": [
        {
          "output_type": "stream",
          "name": "stderr",
          "text": [
            "/usr/local/lib/python3.11/dist-packages/sklearn/utils/deprecation.py:151: FutureWarning: 'force_all_finite' was renamed to 'ensure_all_finite' in 1.6 and will be removed in 1.8.\n",
            "  warnings.warn(\n",
            "/usr/local/lib/python3.11/dist-packages/sklearn/utils/deprecation.py:151: FutureWarning: 'force_all_finite' was renamed to 'ensure_all_finite' in 1.6 and will be removed in 1.8.\n",
            "  warnings.warn(\n"
          ]
        }
      ]
    },
    {
      "cell_type": "code",
      "source": [
        "import xgboost as xgb\n",
        "from sklearn.model_selection import train_test_split\n",
        "\n",
        "# Use if labeled\n",
        "if 'label' in features.columns:\n",
        "    X = features[clustering_features]\n",
        "    y = features['label']\n",
        "    X_train, X_test, y_train, y_test = train_test_split(X, y, stratify=y)\n",
        "\n",
        "    model = xgb.XGBClassifier()\n",
        "    model.fit(X_train, y_train)\n",
        "\n",
        "    # Predict probabilities, convert to 0-1000 scale\n",
        "    features['xgb_score'] = model.predict_proba(X)[:, 1]\n",
        "    features['credit_score'] = (features['xgb_score'] * 1000).astype(int)\n",
        "else:\n",
        "    # Unsupervised fallback score\n",
        "    features['credit_score'] = (\n",
        "        500 * (1 - features['liq_ratio']) +\n",
        "        300 * features['repay_ratio'] +\n",
        "        200 * features['deposit_ratio'] -\n",
        "        100 * features['is_bot'].astype(int)\n",
        "    ).astype(int)\n",
        "    features['credit_score'] = features['credit_score'].clip(0, 1000)\n"
      ],
      "metadata": {
        "id": "H0j53cCyGyCs"
      },
      "execution_count": 8,
      "outputs": []
    },
    {
      "cell_type": "code",
      "source": [
        "import matplotlib.pyplot as plt\n",
        "import seaborn as sns\n",
        "\n",
        "bins = list(range(0, 1100, 100))\n",
        "features['score_bucket'] = pd.cut(features['credit_score'], bins)\n",
        "\n",
        "plt.figure(figsize=(10, 6))\n",
        "sns.countplot(data=features, x='score_bucket', palette='coolwarm')\n",
        "plt.xticks(rotation=45)\n",
        "plt.title(\"Wallet Credit Score Distribution\")\n",
        "plt.xlabel(\"Score Range\")\n",
        "plt.ylabel(\"Wallet Count\")\n",
        "plt.grid(True)\n",
        "plt.tight_layout()\n",
        "plt.show()\n"
      ],
      "metadata": {
        "colab": {
          "base_uri": "https://localhost:8080/",
          "height": 714
        },
        "id": "R04fStO7G2DN",
        "outputId": "cc5d602d-da52-4482-e96f-4357ee8c5dcc"
      },
      "execution_count": 9,
      "outputs": [
        {
          "output_type": "stream",
          "name": "stderr",
          "text": [
            "/tmp/ipython-input-9-1438365305.py:8: FutureWarning: \n",
            "\n",
            "Passing `palette` without assigning `hue` is deprecated and will be removed in v0.14.0. Assign the `x` variable to `hue` and set `legend=False` for the same effect.\n",
            "\n",
            "  sns.countplot(data=features, x='score_bucket', palette='coolwarm')\n"
          ]
        },
        {
          "output_type": "display_data",
          "data": {
            "text/plain": [
              "<Figure size 1000x600 with 1 Axes>"
            ],
            "image/png": "[encoded data removed]"
          },
          "metadata": {}
        }
      ]
    },
    {
      "cell_type": "code",
      "source": [
        "with open(\"analysis.md\", \"w\") as f:\n",
        "    f.write(\"# Wallet Score Analysis\\n\\n\")\n",
        "    f.write(\"## Score Distribution\\n\")\n",
        "    dist = features['score_bucket'].value_counts().sort_index()\n",
        "    f.write(dist.to_markdown())\n",
        "    f.write(\"\\n\\n\")\n",
        "\n",
        "    f.write(\"## Behavior of Wallets (Low Score)\\n\")\n",
        "    low = features[features['credit_score'] < 300].describe()\n",
        "    f.write(low.to_markdown())\n",
        "    f.write(\"\\n\\n\")\n",
        "\n",
        "    f.write(\"## Behavior of Wallets (High Score)\\n\")\n",
        "    high = features[features['credit_score'] > 700].describe()\n",
        "    f.write(high.to_markdown())\n"
      ],
      "metadata": {
        "id": "s6pmy6QdG4eu"
      },
      "execution_count": 10,
      "outputs": []
    },
    {
      "cell_type": "code",
      "source": [
        "features[['userWallet', 'credit_score']].to_csv(\"wallet_scores.csv\", index=False)"
      ],
      "metadata": {
        "id": "C9kRYl7WHDMg"
      },
      "execution_count": 12,
      "outputs": []
    },
    {
      "cell_type": "code",
      "source": [],
      "metadata": {
        "id": "72lo8q_qHPbs"
      },
      "execution_count": null,
      "outputs": []
    },
    {
      "cell_type": "code",
      "source": [],
      "metadata": {
        "id": "KWane8SFHrSo"
      },
      "execution_count": null,
      "outputs": []
    },
    {
      "cell_type": "code",
      "source": [],
      "metadata": {
        "id": "8P0DsJzmHr9C"
      },
      "execution_count": null,
      "outputs": []
    }
  ]
}